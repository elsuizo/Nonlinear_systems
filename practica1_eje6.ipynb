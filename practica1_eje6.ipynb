{
 "cells": [
  {
   "cell_type": "markdown",
   "metadata": {},
   "source": [
    "##Practica 1 Ejercicio 6\n",
    "El sistema:\n",
    " \n",
    " $$\\left\\{ \\begin{array}{lcc}\n",
    "            \\dot{x}_{1}=-x_{1}-\\frac{x_{2}}{ln(\\sqrt{x_{1}^{2}+x_{2}^{2}})} \\\\\n",
    "             \\\\ \\dot{x}_{2}=-x_{2}+\\frac{x_{1}}{ln(\\sqrt{x_{1}^{2}+x_{2}^{2}})}\n",
    "             \\end{array}\n",
    "\\right.$$\n",
    "\n",
    "tiene un punto de equilibrio en el origen.\n",
    "\n",
    " * a) Linealizar el sistema alrededor del origen y determinar el tipo de equilibrio\n",
    "\n",
    " * b) Obtener el retrato de fase del sistema no lineal cerca del origen transformando las ecuaciones a coordenadas polares y mostrar que es semejante a un foco estable\n",
    " \n",
    " * c) Explicar la discrepancia entre los resultados obtenidos en a) y b)"
   ]
  },
  {
   "cell_type": "code",
   "execution_count": 1,
   "metadata": {
    "collapsed": true
   },
   "outputs": [],
   "source": [
    "import sympy as sym"
   ]
  },
  {
   "cell_type": "code",
   "execution_count": 2,
   "metadata": {
    "collapsed": true
   },
   "outputs": [],
   "source": [
    "#Con esto las salidas van a ser en LaTeX\n",
    "sym.init_printing(use_latex=True)"
   ]
  },
  {
   "cell_type": "code",
   "execution_count": 3,
   "metadata": {
    "collapsed": true
   },
   "outputs": [],
   "source": [
    "x_1, x_2 = sym.symbols('x_1 x_2')"
   ]
  },
  {
   "cell_type": "code",
   "execution_count": 4,
   "metadata": {
    "collapsed": false
   },
   "outputs": [
    {
     "data": {
      "image/png": "[encoded data removed]",
      "text/latex": [
       "$$\\left[\\begin{matrix}x_{1}\\\\x_{2}\\end{matrix}\\right]$$"
      ],
      "text/plain": [
       "⎡x₁⎤\n",
       "⎢  ⎥\n",
       "⎣x₂⎦"
      ]
     },
     "execution_count": 4,
     "metadata": {},
     "output_type": "execute_result"
    }
   ],
   "source": [
    "X = sym.Matrix([x_1, x_2])\n",
    "X"
   ]
  },
  {
   "cell_type": "code",
   "execution_count": 18,
   "metadata": {
    "collapsed": false
   },
   "outputs": [
    {
     "data": {
      "image/png": "[encoded data removed]",
      "text/latex": [
       "$$- x_{1} - \\frac{x_{2}}{\\log{\\left (\\sqrt{x_{1}^{2} + x_{2}^{2}} \\right )}}$$"
      ],
      "text/plain": [
       "               x₂        \n",
       "-x₁ - ───────────────────\n",
       "         ⎛   ___________⎞\n",
       "         ⎜  ╱   2     2 ⎟\n",
       "      log⎝╲╱  x₁  + x₂  ⎠"
      ]
     },
     "execution_count": 18,
     "metadata": {},
     "output_type": "execute_result"
    }
   ],
   "source": [
    "f_1 = -x_1 - (x_2) / (sym.ln(sym.sqrt(x_1 ** 2 + x_2 ** 2)))\n",
    "f_1"
   ]
  },
  {
   "cell_type": "code",
   "execution_count": 19,
   "metadata": {
    "collapsed": false
   },
   "outputs": [
    {
     "data": {
      "image/png": "[encoded data removed]",
      "text/latex": [
       "$$\\frac{x_{1}}{\\log{\\left (\\sqrt{x_{1}^{2} + x_{2}^{2}} \\right )}} - x_{2}$$"
      ],
      "text/plain": [
       "         x₁             \n",
       "─────────────────── - x₂\n",
       "   ⎛   ___________⎞     \n",
       "   ⎜  ╱   2     2 ⎟     \n",
       "log⎝╲╱  x₁  + x₂  ⎠     "
      ]
     },
     "execution_count": 19,
     "metadata": {},
     "output_type": "execute_result"
    }
   ],
   "source": [
    "f_2 = -x_2 + (x_1) / (sym.ln(sym.sqrt(x_1 ** 2 + x_2 ** 2)))\n",
    "f_2"
   ]
  },
  {
   "cell_type": "code",
   "execution_count": 20,
   "metadata": {
    "collapsed": false
   },
   "outputs": [
    {
     "data": {
      "image/png": "[encoded data removed]",
      "text/latex": [
       "$$\\left[\\begin{matrix}- x_{1} - \\frac{x_{2}}{\\log{\\left (\\sqrt{x_{1}^{2} + x_{2}^{2}} \\right )}}\\\\\\frac{x_{1}}{\\log{\\left (\\sqrt{x_{1}^{2} + x_{2}^{2}} \\right )}} - x_{2}\\end{matrix}\\right]$$"
      ],
      "text/plain": [
       "⎡               x₂        ⎤\n",
       "⎢-x₁ - ───────────────────⎥\n",
       "⎢         ⎛   ___________⎞⎥\n",
       "⎢         ⎜  ╱   2     2 ⎟⎥\n",
       "⎢      log⎝╲╱  x₁  + x₂  ⎠⎥\n",
       "⎢                         ⎥\n",
       "⎢         x₁              ⎥\n",
       "⎢─────────────────── - x₂ ⎥\n",
       "⎢   ⎛   ___________⎞      ⎥\n",
       "⎢   ⎜  ╱   2     2 ⎟      ⎥\n",
       "⎣log⎝╲╱  x₁  + x₂  ⎠      ⎦"
      ]
     },
     "execution_count": 20,
     "metadata": {},
     "output_type": "execute_result"
    }
   ],
   "source": [
    "F = sym.Matrix([f_1,f_2])\n",
    "F"
   ]
  },
  {
   "cell_type": "code",
   "execution_count": 21,
   "metadata": {
    "collapsed": false
   },
   "outputs": [
    {
     "data": {
      "image/png": "[encoded data removed]",
      "text/latex": [
       "$$\\left[\\begin{matrix}\\frac{x_{1} x_{2}}{\\left(x_{1}^{2} + x_{2}^{2}\\right) \\log^{2}{\\left (\\sqrt{x_{1}^{2} + x_{2}^{2}} \\right )}} - 1 & \\frac{x_{2}^{2}}{\\left(x_{1}^{2} + x_{2}^{2}\\right) \\log^{2}{\\left (\\sqrt{x_{1}^{2} + x_{2}^{2}} \\right )}} - \\frac{1}{\\log{\\left (\\sqrt{x_{1}^{2} + x_{2}^{2}} \\right )}}\\\\- \\frac{x_{1}^{2}}{\\left(x_{1}^{2} + x_{2}^{2}\\right) \\log^{2}{\\left (\\sqrt{x_{1}^{2} + x_{2}^{2}} \\right )}} + \\frac{1}{\\log{\\left (\\sqrt{x_{1}^{2} + x_{2}^{2}} \\right )}} & - \\frac{x_{1} x_{2}}{\\left(x_{1}^{2} + x_{2}^{2}\\right) \\log^{2}{\\left (\\sqrt{x_{1}^{2} + x_{2}^{2}} \\right )}} - 1\\end{matrix}\\right]$$"
      ],
      "text/plain": [
       "⎡                                                                          2  \n",
       "⎢                       x₁⋅x₂                                            x₂   \n",
       "⎢          ──────────────────────────────── - 1            ───────────────────\n",
       "⎢                          ⎛   ___________⎞                                ⎛  \n",
       "⎢          ⎛  2     2⎞    2⎜  ╱   2     2 ⎟                ⎛  2     2⎞    2⎜  \n",
       "⎢          ⎝x₁  + x₂ ⎠⋅log ⎝╲╱  x₁  + x₂  ⎠                ⎝x₁  + x₂ ⎠⋅log ⎝╲╱\n",
       "⎢                                                                             \n",
       "⎢                  2                                                          \n",
       "⎢                x₁                            1                              \n",
       "⎢- ──────────────────────────────── + ───────────────────          - ─────────\n",
       "⎢                  ⎛   ___________⎞      ⎛   ___________⎞                     \n",
       "⎢  ⎛  2     2⎞    2⎜  ╱   2     2 ⎟      ⎜  ╱   2     2 ⎟            ⎛  2     \n",
       "⎣  ⎝x₁  + x₂ ⎠⋅log ⎝╲╱  x₁  + x₂  ⎠   log⎝╲╱  x₁  + x₂  ⎠            ⎝x₁  + x₂\n",
       "\n",
       "                                   ⎤\n",
       "                         1         ⎥\n",
       "───────────── - ───────────────────⎥\n",
       " ___________⎞      ⎛   ___________⎞⎥\n",
       "╱   2     2 ⎟      ⎜  ╱   2     2 ⎟⎥\n",
       "  x₁  + x₂  ⎠   log⎝╲╱  x₁  + x₂  ⎠⎥\n",
       "                                   ⎥\n",
       "                                   ⎥\n",
       "    x₁⋅x₂                          ⎥\n",
       "─────────────────────── - 1        ⎥\n",
       "       ⎛   ___________⎞            ⎥\n",
       "2⎞    2⎜  ╱   2     2 ⎟            ⎥\n",
       " ⎠⋅log ⎝╲╱  x₁  + x₂  ⎠            ⎦"
      ]
     },
     "execution_count": 21,
     "metadata": {},
     "output_type": "execute_result"
    }
   ],
   "source": [
    "A = F.jacobian(X)\n",
    "#A.simplify()\n",
    "A"
   ]
  },
  {
   "cell_type": "code",
   "execution_count": 22,
   "metadata": {
    "collapsed": false
   },
   "outputs": [
    {
     "data": {
      "image/png": "[encoded data removed]",
      "text/latex": [
       "$$\\left[\\begin{matrix}-1 & 0\\\\0 & -1\\end{matrix}\\right]$$"
      ],
      "text/plain": [
       "⎡-1  0 ⎤\n",
       "⎢      ⎥\n",
       "⎣0   -1⎦"
      ]
     },
     "execution_count": 22,
     "metadata": {},
     "output_type": "execute_result"
    }
   ],
   "source": [
    "A_1 = A.subs({x_1:0,x_2:0})\n",
    "A_1"
   ]
  },
  {
   "cell_type": "code",
   "execution_count": 23,
   "metadata": {
    "collapsed": false
   },
   "outputs": [
    {
     "data": {
      "image/png": "[encoded data removed]",
      "text/latex": [
       "$$\\begin{Bmatrix}-1 : 2\\end{Bmatrix}$$"
      ],
      "text/plain": [
       "{-1: 2}"
      ]
     },
     "execution_count": 23,
     "metadata": {},
     "output_type": "execute_result"
    }
   ],
   "source": [
    "A_1.eigenvals()"
   ]
  },
  {
   "cell_type": "code",
   "execution_count": null,
   "metadata": {
    "collapsed": true
   },
   "outputs": [],
   "source": []
  }
 ],
 "metadata": {
  "kernelspec": {
   "display_name": "Python 2",
   "language": "python",
   "name": "python2"
  },
  "language_info": {
   "codemirror_mode": {
    "name": "ipython",
    "version": 2
   },
   "file_extension": ".py",
   "mimetype": "text/x-python",
   "name": "python",
   "nbconvert_exporter": "python",
   "pygments_lexer": "ipython2",
   "version": "2.7.9"
  }
 },
 "nbformat": 4,
 "nbformat_minor": 0
}
