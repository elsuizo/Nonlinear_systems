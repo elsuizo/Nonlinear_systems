{
 "cells": [
  {
   "cell_type": "code",
   "execution_count": 2,
   "metadata": {
    "collapsed": true
   },
   "outputs": [],
   "source": [
    "using SymPy"
   ]
  },
  {
   "cell_type": "code",
   "execution_count": 4,
   "metadata": {
    "collapsed": false
   },
   "outputs": [
    {
     "data": {
      "text/plain": [
       "(x_1,x_2)"
      ]
     },
     "execution_count": 4,
     "metadata": {},
     "output_type": "execute_result"
    }
   ],
   "source": [
    "x_1, x_2 = @syms x_1, x_2"
   ]
  },
  {
   "cell_type": "code",
   "execution_count": 21,
   "metadata": {
    "collapsed": false
   },
   "outputs": [
    {
     "data": {
      "text/latex": [
       "\\begin{bmatrix}x_{1}\\\\x_{2}\\end{bmatrix}"
      ],
      "text/plain": [
       "2-element Array{SymPy.Sym,1}\n",
       "[x_1]\n",
       "[   ]\n",
       "[x_2]"
      ]
     },
     "execution_count": 21,
     "metadata": {},
     "output_type": "execute_result"
    }
   ],
   "source": [
    "X = [x_1, x_2]"
   ]
  },
  {
   "cell_type": "code",
   "execution_count": 22,
   "metadata": {
    "collapsed": false
   },
   "outputs": [
    {
     "data": {
      "text/latex": [
       "$$- x_{1} + x_{2}$$"
      ],
      "text/plain": [
       "-x_1 + x_2"
      ]
     },
     "execution_count": 22,
     "metadata": {},
     "output_type": "execute_result"
    }
   ],
   "source": [
    "f_1 = -x_1 + x_2"
   ]
  },
  {
   "cell_type": "code",
   "execution_count": 23,
   "metadata": {
    "collapsed": false
   },
   "outputs": [
    {
     "data": {
      "text/latex": [
       "$$- \\frac{x_{1}^{3}}{10} - x_{1}^{2} + \\frac{x_{1}}{10} - 2 x_{2}$$"
      ],
      "text/plain": [
       "     3                     \n",
       "  x_1       2   x_1        \n",
       "- ---- - x_1  + --- - 2*x_2\n",
       "   10            10        "
      ]
     },
     "execution_count": 23,
     "metadata": {},
     "output_type": "execute_result"
    }
   ],
   "source": [
    "f_2 = 1//10 * x_1 - 2 * x_2 - x_1 ^ 2 - 1//10 * x_1 ^ 3"
   ]
  },
  {
   "cell_type": "code",
   "execution_count": 24,
   "metadata": {
    "collapsed": false
   },
   "outputs": [
    {
     "data": {
      "text/latex": [
       "\\begin{bmatrix}- x_{1} + x_{2}\\\\- \\frac{x_{1}^{3}}{10} - x_{1}^{2} + \\frac{x_{1}}{10} - 2 x_{2}\\end{bmatrix}"
      ],
      "text/plain": [
       "2-element Array{SymPy.Sym,1}\n",
       "[        -x_1 + x_2         ]\n",
       "[                           ]\n",
       "[     3                     ]\n",
       "[  x_1       2   x_1        ]\n",
       "[- ---- - x_1  + --- - 2*x_2]\n",
       "[   10            10        ]"
      ]
     },
     "execution_count": 24,
     "metadata": {},
     "output_type": "execute_result"
    }
   ],
   "source": [
    "F = [f_1,f_2]"
   ]
  },
  {
   "cell_type": "code",
   "execution_count": 32,
   "metadata": {
    "collapsed": false
   },
   "outputs": [
    {
     "data": {
      "text/latex": [
       "\\begin{bmatrix}-1&1\\\\- \\frac{3 x_{1}^{2}}{10} - 2 x_{1} + \\frac{1}{10}&-2\\end{bmatrix}"
      ],
      "text/plain": [
       "2x2 Array{SymPy.Sym,2}\n",
       "[         -1            1 ]\n",
       "[                         ]\n",
       "[       2                 ]\n",
       "[  3*x_1            1     ]\n",
       "[- ------ - 2*x_1 + --  -2]\n",
       "[    10             10    ]"
      ]
     },
     "execution_count": 32,
     "metadata": {},
     "output_type": "execute_result"
    }
   ],
   "source": [
    "A = [diff(f_1,x_1) diff(f_1,x_2);diff(f_2,x_1) diff(f_2,x_2)]\n"
   ]
  },
  {
   "cell_type": "code",
   "execution_count": 35,
   "metadata": {
    "collapsed": false
   },
   "outputs": [
    {
     "data": {
      "text/plain": [
       "3-element Array{Any,1}:\n",
       " Dict{AbstractString,SymPy.Sym}(\"x_1\"=>0,\"x_2\"=>0)                      \n",
       " Dict{AbstractString,SymPy.Sym}(\"x_1\"=>-5 - sqrt(6),\"x_2\"=>-5 - sqrt(6))\n",
       " Dict{AbstractString,SymPy.Sym}(\"x_1\"=>-5 + sqrt(6),\"x_2\"=>-5 + sqrt(6))"
      ]
     },
     "execution_count": 35,
     "metadata": {},
     "output_type": "execute_result"
    }
   ],
   "source": [
    "solve([f_1,f_2],[x_1,x_])"
   ]
  },
  {
   "cell_type": "code",
   "execution_count": null,
   "metadata": {
    "collapsed": true
   },
   "outputs": [],
   "source": []
  }
 ],
 "metadata": {
  "kernelspec": {
   "display_name": "Julia 0.4.0-dev",
   "language": "julia",
   "name": "julia 0.4"
  },
  "language_info": {
   "name": "julia",
   "version": "0.4.0"
  }
 },
 "nbformat": 4,
 "nbformat_minor": 0
}
