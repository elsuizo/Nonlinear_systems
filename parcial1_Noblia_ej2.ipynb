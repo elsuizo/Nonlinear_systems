{
 "cells": [
  {
   "cell_type": "markdown",
   "metadata": {},
   "source": [
    "\n",
    " $$\\left\\{ \\begin{array}{lcc}\n",
    "            \\dot{x}_{1}=2x_{2}+x_{1}(x_{1}^{2}+2x_{2}^{4}) \\\\\n",
    "             \\\\ \\dot{x}_{2}=-2x_{1}+x_{2}(x_{1}^{2}+x_{2}^{4})\n",
    "             \\end{array}\n",
    "\\right.$$\n",
    " "
   ]
  },
  {
   "cell_type": "code",
   "execution_count": 2,
   "metadata": {
    "collapsed": true
   },
   "outputs": [],
   "source": [
    "import sympy as sym"
   ]
  },
  {
   "cell_type": "code",
   "execution_count": 3,
   "metadata": {
    "collapsed": true
   },
   "outputs": [],
   "source": [
    "#Con esto las salidas van a ser en LaTeX\n",
    "sym.init_printing(use_latex=True)"
   ]
  },
  {
   "cell_type": "code",
   "execution_count": 4,
   "metadata": {
    "collapsed": true
   },
   "outputs": [],
   "source": [
    "x_1, x_2 ,theta = sym.symbols('x_1 x_2 theta')"
   ]
  },
  {
   "cell_type": "code",
   "execution_count": 5,
   "metadata": {
    "collapsed": false
   },
   "outputs": [
    {
     "data": {
      "image/png": "[encoded data removed]",
      "text/latex": [
       "$$\\left[\\begin{matrix}x_{1}\\\\x_{2}\\end{matrix}\\right]$$"
      ],
      "text/plain": [
       "⎡x₁⎤\n",
       "⎢  ⎥\n",
       "⎣x₂⎦"
      ]
     },
     "execution_count": 5,
     "metadata": {},
     "output_type": "execute_result"
    }
   ],
   "source": [
    "X = sym.Matrix([x_1, x_2])\n",
    "X"
   ]
  },
  {
   "cell_type": "code",
   "execution_count": 6,
   "metadata": {
    "collapsed": false
   },
   "outputs": [
    {
     "data": {
      "image/png": "[encoded data removed]",
      "text/latex": [
       "$$x_{1} \\left(x_{1}^{2} + 2 x_{2}^{4}\\right) + 2 x_{2}$$"
      ],
      "text/plain": [
       "   ⎛  2       4⎞       \n",
       "x₁⋅⎝x₁  + 2⋅x₂ ⎠ + 2⋅x₂"
      ]
     },
     "execution_count": 6,
     "metadata": {},
     "output_type": "execute_result"
    }
   ],
   "source": [
    "f_1 = 2*x_2 + x_1*(x_1**2 + 2*x_2**4)\n",
    "f_1"
   ]
  },
  {
   "cell_type": "code",
   "execution_count": 7,
   "metadata": {
    "collapsed": false
   },
   "outputs": [
    {
     "data": {
      "image/png": "[encoded data removed]",
      "text/latex": [
       "$$- 2 x_{1} + x_{2} \\left(x_{1}^{2} + x_{2}^{4}\\right)$$"
      ],
      "text/plain": [
       "           ⎛  2     4⎞\n",
       "-2⋅x₁ + x₂⋅⎝x₁  + x₂ ⎠"
      ]
     },
     "execution_count": 7,
     "metadata": {},
     "output_type": "execute_result"
    }
   ],
   "source": [
    "f_2 = -2*x_1 + x_2*(x_1**2 + x_2**4)\n",
    "f_2"
   ]
  },
  {
   "cell_type": "code",
   "execution_count": 8,
   "metadata": {
    "collapsed": false
   },
   "outputs": [
    {
     "data": {
      "image/png": "[encoded data removed]",
      "text/latex": [
       "$$\\left[\\begin{matrix}x_{1} \\left(x_{1}^{2} + 2 x_{2}^{4}\\right) + 2 x_{2}\\\\- 2 x_{1} + x_{2} \\left(x_{1}^{2} + x_{2}^{4}\\right)\\end{matrix}\\right]$$"
      ],
      "text/plain": [
       "⎡   ⎛  2       4⎞       ⎤\n",
       "⎢x₁⋅⎝x₁  + 2⋅x₂ ⎠ + 2⋅x₂⎥\n",
       "⎢                       ⎥\n",
       "⎢           ⎛  2     4⎞ ⎥\n",
       "⎣-2⋅x₁ + x₂⋅⎝x₁  + x₂ ⎠ ⎦"
      ]
     },
     "execution_count": 8,
     "metadata": {},
     "output_type": "execute_result"
    }
   ],
   "source": [
    "F = sym.Matrix([f_1,f_2])\n",
    "F"
   ]
  },
  {
   "cell_type": "code",
   "execution_count": 9,
   "metadata": {
    "collapsed": false
   },
   "outputs": [
    {
     "data": {
      "image/png": "[encoded data removed]",
      "text/latex": [
       "$$\\left [ \\left \\{ x_{1} : 0, \\quad x_{2} : 0\\right \\}\\right ]$$"
      ],
      "text/plain": [
       "[{x₁: 0, x₂: 0}]"
      ]
     },
     "execution_count": 9,
     "metadata": {},
     "output_type": "execute_result"
    }
   ],
   "source": [
    "# puntos de equilibrio del sistema\n",
    "pes = sym.solve([f_1,f_2])\n",
    "pes"
   ]
  },
  {
   "cell_type": "code",
   "execution_count": 10,
   "metadata": {
    "collapsed": false
   },
   "outputs": [
    {
     "data": {
      "image/png": "[encoded data removed]",
      "text/latex": [
       "$$\\left[\\begin{matrix}3 x_{1}^{2} + 2 x_{2}^{4} & 8 x_{1} x_{2}^{3} + 2\\\\2 x_{1} x_{2} - 2 & x_{1}^{2} + 5 x_{2}^{4}\\end{matrix}\\right]$$"
      ],
      "text/plain": [
       "⎡    2       4         3    ⎤\n",
       "⎢3⋅x₁  + 2⋅x₂   8⋅x₁⋅x₂  + 2⎥\n",
       "⎢                           ⎥\n",
       "⎢                 2       4 ⎥\n",
       "⎣ 2⋅x₁⋅x₂ - 2   x₁  + 5⋅x₂  ⎦"
      ]
     },
     "execution_count": 10,
     "metadata": {},
     "output_type": "execute_result"
    }
   ],
   "source": [
    "A = F.jacobian(X)\n",
    "A"
   ]
  },
  {
   "cell_type": "code",
   "execution_count": 11,
   "metadata": {
    "collapsed": false
   },
   "outputs": [
    {
     "data": {
      "text/plain": [
       "'\\\\left[\\\\begin{matrix}3 x_{1}^{2} + 2 x_{2}^{4} & 8 x_{1} x_{2}^{3} + 2\\\\\\\\2 x_{1} x_{2} - 2 & x_{1}^{2} + 5 x_{2}^{4}\\\\end{matrix}\\\\right]'"
      ]
     },
     "execution_count": 11,
     "metadata": {},
     "output_type": "execute_result"
    }
   ],
   "source": [
    "sym.latex(A)"
   ]
  },
  {
   "cell_type": "code",
   "execution_count": 12,
   "metadata": {
    "collapsed": false
   },
   "outputs": [
    {
     "data": {
      "image/png": "[encoded data removed]",
      "text/latex": [
       "$$\\left[\\begin{matrix}0 & 2\\\\-2 & 0\\end{matrix}\\right]$$"
      ],
      "text/plain": [
       "⎡0   2⎤\n",
       "⎢     ⎥\n",
       "⎣-2  0⎦"
      ]
     },
     "execution_count": 12,
     "metadata": {},
     "output_type": "execute_result"
    }
   ],
   "source": [
    "A_1 = A.subs({x_1:0,x_2:0})\n",
    "A_1"
   ]
  },
  {
   "cell_type": "code",
   "execution_count": 13,
   "metadata": {
    "collapsed": false
   },
   "outputs": [
    {
     "data": {
      "image/png": "[encoded data removed]",
      "text/latex": [
       "$$\\left \\{ - 2 i : 1, \\quad 2 i : 1\\right \\}$$"
      ],
      "text/plain": [
       "{-2⋅ⅈ: 1, 2⋅ⅈ: 1}"
      ]
     },
     "execution_count": 13,
     "metadata": {},
     "output_type": "execute_result"
    }
   ],
   "source": [
    "A_1.eigenvals()"
   ]
  },
  {
   "cell_type": "code",
   "execution_count": 16,
   "metadata": {
    "collapsed": false
   },
   "outputs": [],
   "source": [
    "expr = 2*x_1 *F[0] + 2*x_2*F[1]\n",
    "expr = expr.simplify()"
   ]
  },
  {
   "cell_type": "code",
   "execution_count": 17,
   "metadata": {
    "collapsed": false
   },
   "outputs": [
    {
     "data": {
      "text/plain": [
       "'2 x_{1}^{4} + 4 x_{1}^{2} x_{2}^{4} + 2 x_{1}^{2} x_{2}^{2} + 2 x_{2}^{6}'"
      ]
     },
     "execution_count": 17,
     "metadata": {},
     "output_type": "execute_result"
    }
   ],
   "source": [
    "sym.latex(expr)"
   ]
  },
  {
   "cell_type": "code",
   "execution_count": 18,
   "metadata": {
    "collapsed": false
   },
   "outputs": [
    {
     "data": {
      "image/png": "[encoded data removed]",
      "text/latex": [
       "$$2 x_{1}^{4} + 4 x_{1}^{2} x_{2}^{4} + 2 x_{1}^{2} x_{2}^{2} + 2 x_{2}^{6}$$"
      ],
      "text/plain": [
       "    4       2   4       2   2       6\n",
       "2⋅x₁  + 4⋅x₁ ⋅x₂  + 2⋅x₁ ⋅x₂  + 2⋅x₂ "
      ]
     },
     "execution_count": 18,
     "metadata": {},
     "output_type": "execute_result"
    }
   ],
   "source": [
    "expr"
   ]
  },
  {
   "cell_type": "code",
   "execution_count": null,
   "metadata": {
    "collapsed": true
   },
   "outputs": [],
   "source": []
  }
 ],
 "metadata": {
  "kernelspec": {
   "display_name": "Python 2",
   "language": "python",
   "name": "python2"
  },
  "language_info": {
   "codemirror_mode": {
    "name": "ipython",
    "version": 2
   },
   "file_extension": ".py",
   "mimetype": "text/x-python",
   "name": "python",
   "nbconvert_exporter": "python",
   "pygments_lexer": "ipython2",
   "version": "2.7.9"
  }
 },
 "nbformat": 4,
 "nbformat_minor": 0
}
