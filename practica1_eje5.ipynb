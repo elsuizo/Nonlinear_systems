{
 "cells": [
  {
   "cell_type": "markdown",
   "metadata": {},
   "source": [
    "##Practica 1 Ejercicio 5\n",
    "Para cada uno de los siguientes sistemas encontrar todos los puntos de equilibrio y determinar el tipo de cada punto de equilibio aislado.\n",
    "\n",
    " $$\\left\\{ \\begin{array}{lcc}\n",
    "            \\dot{x}_{1}=a x_{1}-x_{1}x_{2} \\\\\n",
    "             \\\\ \\dot{x}_{2}=bx_{1}^{2}-cx_{2}\n",
    "             \\end{array}\n",
    "\\right.$$"
   ]
  },
  {
   "cell_type": "code",
   "execution_count": 1,
   "metadata": {
    "collapsed": true
   },
   "outputs": [],
   "source": [
    "import sympy as sym"
   ]
  },
  {
   "cell_type": "code",
   "execution_count": 2,
   "metadata": {
    "collapsed": true
   },
   "outputs": [],
   "source": [
    "#Con esto las salidas van a ser en LaTeX\n",
    "sym.init_printing(use_latex=True)"
   ]
  },
  {
   "cell_type": "code",
   "execution_count": 5,
   "metadata": {
    "collapsed": true
   },
   "outputs": [],
   "source": [
    "x_1, x_2, a, b, c= sym.symbols('x_1 x_2 a b c')"
   ]
  },
  {
   "cell_type": "code",
   "execution_count": 7,
   "metadata": {
    "collapsed": false
   },
   "outputs": [
    {
     "data": {
      "image/png": "[encoded data removed]",
      "text/latex": [
       "$$c$$"
      ],
      "text/plain": [
       "c"
      ]
     },
     "execution_count": 7,
     "metadata": {},
     "output_type": "execute_result"
    }
   ],
   "source": [
    "sym.Symbol(\"a\",positive=True)\n",
    "sym.Symbol(\"b\",positive=True)\n",
    "sym.Symbol(\"c\",positive=True)"
   ]
  },
  {
   "cell_type": "code",
   "execution_count": 8,
   "metadata": {
    "collapsed": false
   },
   "outputs": [
    {
     "data": {
      "image/png": "[encoded data removed]",
      "text/latex": [
       "$$\\left[\\begin{matrix}x_{1}\\\\x_{2}\\end{matrix}\\right]$$"
      ],
      "text/plain": [
       "⎡x₁⎤\n",
       "⎢  ⎥\n",
       "⎣x₂⎦"
      ]
     },
     "execution_count": 8,
     "metadata": {},
     "output_type": "execute_result"
    }
   ],
   "source": [
    "X = sym.Matrix([x_1, x_2])\n",
    "X"
   ]
  },
  {
   "cell_type": "code",
   "execution_count": 18,
   "metadata": {
    "collapsed": false
   },
   "outputs": [
    {
     "ename": "SyntaxError",
     "evalue": "can't assign to function call (<ipython-input-18-a96337569c26>, line 1)",
     "output_type": "error",
     "traceback": [
      "\u001b[1;36m  File \u001b[1;32m\"<ipython-input-18-a96337569c26>\"\u001b[1;36m, line \u001b[1;32m1\u001b[0m\n\u001b[1;33m    f_1(x_1,x_2) = a * x_1 - x_1 * x_2\u001b[0m\n\u001b[1;31mSyntaxError\u001b[0m\u001b[1;31m:\u001b[0m can't assign to function call\n"
     ]
    }
   ],
   "source": [
    "f_1 = a * x_1 - x_1 * x_2\n",
    "f_1"
   ]
  },
  {
   "cell_type": "code",
   "execution_count": 11,
   "metadata": {
    "collapsed": false
   },
   "outputs": [
    {
     "data": {
      "image/png": "[encoded data removed]",
      "text/latex": [
       "$$b x_{1}^{2} - c x_{2}$$"
      ],
      "text/plain": [
       "    2       \n",
       "b⋅x₁  - c⋅x₂"
      ]
     },
     "execution_count": 11,
     "metadata": {},
     "output_type": "execute_result"
    }
   ],
   "source": [
    "f_2 = b * x_1 ** 2 - c * x_2\n",
    "f_2"
   ]
  },
  {
   "cell_type": "code",
   "execution_count": 12,
   "metadata": {
    "collapsed": false
   },
   "outputs": [
    {
     "data": {
      "image/png": "[encoded data removed]",
      "text/latex": [
       "$$\\left[\\begin{matrix}a x_{1} - x_{1} x_{2}\\\\b x_{1}^{2} - c x_{2}\\end{matrix}\\right]$$"
      ],
      "text/plain": [
       "⎡a⋅x₁ - x₁⋅x₂⎤\n",
       "⎢            ⎥\n",
       "⎢    2       ⎥\n",
       "⎣b⋅x₁  - c⋅x₂⎦"
      ]
     },
     "execution_count": 12,
     "metadata": {},
     "output_type": "execute_result"
    }
   ],
   "source": [
    "F = sym.Matrix([f_1,f_2])\n",
    "F"
   ]
  },
  {
   "cell_type": "code",
   "execution_count": 17,
   "metadata": {
    "collapsed": false
   },
   "outputs": [
    {
     "data": {
      "image/png": "[encoded data removed]",
      "text/latex": [
       "$$\\begin{bmatrix}\\begin{pmatrix}0, & 0\\end{pmatrix}, & \\begin{pmatrix}- \\sqrt{\\frac{a c}{b}}, & a\\end{pmatrix}, & \\begin{pmatrix}\\sqrt{\\frac{a c}{b}}, & a\\end{pmatrix}\\end{bmatrix}$$"
      ],
      "text/plain": [
       "⎡        ⎛     _____   ⎞  ⎛    _____   ⎞⎤\n",
       "⎢        ⎜    ╱ a⋅c    ⎟  ⎜   ╱ a⋅c    ⎟⎥\n",
       "⎢(0, 0), ⎜-  ╱  ─── , a⎟, ⎜  ╱  ─── , a⎟⎥\n",
       "⎣        ⎝ ╲╱    b     ⎠  ⎝╲╱    b     ⎠⎦"
      ]
     },
     "execution_count": 17,
     "metadata": {},
     "output_type": "execute_result"
    }
   ],
   "source": [
    "# puntos de equilibrio del sistema\n",
    "pes = sym.solve([f_1,f_2],[x_1,x_2])\n",
    "pes"
   ]
  },
  {
   "cell_type": "code",
   "execution_count": 15,
   "metadata": {
    "collapsed": false
   },
   "outputs": [
    {
     "data": {
      "image/png": "[encoded data removed]",
      "text/latex": [
       "$$\\left[\\begin{matrix}a - x_{2} & - x_{1}\\\\2 b x_{1} & - c\\end{matrix}\\right]$$"
      ],
      "text/plain": [
       "⎡a - x₂  -x₁⎤\n",
       "⎢           ⎥\n",
       "⎣2⋅b⋅x₁  -c ⎦"
      ]
     },
     "execution_count": 15,
     "metadata": {},
     "output_type": "execute_result"
    }
   ],
   "source": [
    "A = F.jacobian(X)\n",
    "A"
   ]
  },
  {
   "cell_type": "code",
   "execution_count": 23,
   "metadata": {
    "collapsed": false
   },
   "outputs": [
    {
     "data": {
      "image/png": "[encoded data removed]",
      "text/latex": [
       "$$\\left[\\begin{matrix}a & 0\\\\0 & - c\\end{matrix}\\right]$$"
      ],
      "text/plain": [
       "⎡a  0 ⎤\n",
       "⎢     ⎥\n",
       "⎣0  -c⎦"
      ]
     },
     "execution_count": 23,
     "metadata": {},
     "output_type": "execute_result"
    }
   ],
   "source": [
    "A_1 = A.subs({x_1:pes[0][0],x_2:pes[0][0]})\n",
    "A_1"
   ]
  },
  {
   "cell_type": "code",
   "execution_count": 25,
   "metadata": {
    "collapsed": false
   },
   "outputs": [
    {
     "data": {
      "image/png": "[encoded data removed]",
      "text/latex": [
       "$$\\left[\\begin{matrix}0 & \\sqrt{\\frac{a c}{b}}\\\\- 2 b \\sqrt{\\frac{a c}{b}} & - c\\end{matrix}\\right]$$"
      ],
      "text/plain": [
       "⎡                    _____⎤\n",
       "⎢                   ╱ a⋅c ⎥\n",
       "⎢      0           ╱  ─── ⎥\n",
       "⎢                ╲╱    b  ⎥\n",
       "⎢                         ⎥\n",
       "⎢         _____           ⎥\n",
       "⎢        ╱ a⋅c            ⎥\n",
       "⎢-2⋅b⋅  ╱  ───      -c    ⎥\n",
       "⎣     ╲╱    b             ⎦"
      ]
     },
     "execution_count": 25,
     "metadata": {},
     "output_type": "execute_result"
    }
   ],
   "source": [
    "A_2 = A.subs({x_1:pes[1][0],x_2:pes[1][1]})\n",
    "A_2"
   ]
  },
  {
   "cell_type": "code",
   "execution_count": 28,
   "metadata": {
    "collapsed": false
   },
   "outputs": [
    {
     "data": {
      "image/png": "[encoded data removed]",
      "text/latex": [
       "$$\\begin{Bmatrix}- \\frac{c}{2} - \\frac{1}{2} \\sqrt{- c \\left(8 a - c\\right)} : 1, & - \\frac{c}{2} + \\frac{1}{2} \\sqrt{- c \\left(8 a - c\\right)} : 1\\end{Bmatrix}$$"
      ],
      "text/plain": [
       "⎧        ______________             ______________   ⎫\n",
       "⎪  c   ╲╱ -c⋅(8⋅a - c)        c   ╲╱ -c⋅(8⋅a - c)    ⎪\n",
       "⎨- ─ - ────────────────: 1, - ─ + ────────────────: 1⎬\n",
       "⎪  2          2               2          2           ⎪\n",
       "⎩                                                    ⎭"
      ]
     },
     "execution_count": 28,
     "metadata": {},
     "output_type": "execute_result"
    }
   ],
   "source": [
    "A_2.eigenvals()"
   ]
  },
  {
   "cell_type": "code",
   "execution_count": 30,
   "metadata": {
    "collapsed": false
   },
   "outputs": [
    {
     "data": {
      "image/png": "[encoded data removed]",
      "text/latex": [
       "$$\\left[\\begin{matrix}0 & - \\sqrt{\\frac{a c}{b}}\\\\2 b \\sqrt{\\frac{a c}{b}} & - c\\end{matrix}\\right]$$"
      ],
      "text/plain": [
       "⎡                    _____⎤\n",
       "⎢                   ╱ a⋅c ⎥\n",
       "⎢      0        -  ╱  ─── ⎥\n",
       "⎢                ╲╱    b  ⎥\n",
       "⎢                         ⎥\n",
       "⎢        _____            ⎥\n",
       "⎢       ╱ a⋅c             ⎥\n",
       "⎢2⋅b⋅  ╱  ───       -c    ⎥\n",
       "⎣    ╲╱    b              ⎦"
      ]
     },
     "execution_count": 30,
     "metadata": {},
     "output_type": "execute_result"
    }
   ],
   "source": [
    "A_3 = A.subs({x_1:pes[2][0],x_2:pes[2][1]})\n",
    "A_3"
   ]
  },
  {
   "cell_type": "code",
   "execution_count": 31,
   "metadata": {
    "collapsed": false
   },
   "outputs": [
    {
     "data": {
      "image/png": "[encoded data removed]",
      "text/latex": [
       "$$\\begin{Bmatrix}- \\frac{c}{2} - \\frac{1}{2} \\sqrt{- c \\left(8 a - c\\right)} : 1, & - \\frac{c}{2} + \\frac{1}{2} \\sqrt{- c \\left(8 a - c\\right)} : 1\\end{Bmatrix}$$"
      ],
      "text/plain": [
       "⎧        ______________             ______________   ⎫\n",
       "⎪  c   ╲╱ -c⋅(8⋅a - c)        c   ╲╱ -c⋅(8⋅a - c)    ⎪\n",
       "⎨- ─ - ────────────────: 1, - ─ + ────────────────: 1⎬\n",
       "⎪  2          2               2          2           ⎪\n",
       "⎩                                                    ⎭"
      ]
     },
     "execution_count": 31,
     "metadata": {},
     "output_type": "execute_result"
    }
   ],
   "source": [
    "A_3.eigenvals()"
   ]
  },
  {
   "cell_type": "code",
   "execution_count": null,
   "metadata": {
    "collapsed": true
   },
   "outputs": [],
   "source": []
  }
 ],
 "metadata": {
  "kernelspec": {
   "display_name": "Python 2",
   "language": "python",
   "name": "python2"
  },
  "language_info": {
   "codemirror_mode": {
    "name": "ipython",
    "version": 2
   },
   "file_extension": ".py",
   "mimetype": "text/x-python",
   "name": "python",
   "nbconvert_exporter": "python",
   "pygments_lexer": "ipython2",
   "version": "2.7.9"
  }
 },
 "nbformat": 4,
 "nbformat_minor": 0
}
