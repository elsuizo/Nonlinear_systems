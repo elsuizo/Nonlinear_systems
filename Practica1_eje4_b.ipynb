{
 "cells": [
  {
   "cell_type": "markdown",
   "metadata": {},
   "source": [
    "##Ejercicio 4 Practica 1\n",
    "Para cada uno de los siguientes sistemas encontrar todos los puntos de equilibrio y determinar el tipo de cada punto de equilibio aislado.\n",
    " * b) \n",
    " \n",
    " $$\\left\\{ \\begin{array}{lcc}\n",
    "            \\dot{x}_{1}=-x_{1}+x_{2}\\\\\n",
    "             \\\\ \\dot{x}_{2}=\\frac{x_{1}}{10}-2x_{1}-x_{1}^{2}-\\frac{x_{1}^{3}}{10}\n",
    "             \\end{array}\n",
    "\\right.$$"
   ]
  },
  {
   "cell_type": "code",
   "execution_count": 8,
   "metadata": {
    "collapsed": true
   },
   "outputs": [],
   "source": [
    "import sympy as sym"
   ]
  },
  {
   "cell_type": "code",
   "execution_count": 10,
   "metadata": {
    "collapsed": false
   },
   "outputs": [],
   "source": [
    "#Con esto las salidas van a ser en LaTeX\n",
    "sym.init_printing(use_latex=True)"
   ]
  },
  {
   "cell_type": "code",
   "execution_count": 20,
   "metadata": {
    "collapsed": true
   },
   "outputs": [],
   "source": [
    "x_1, x_2 = sym.symbols('x_1 x_2')"
   ]
  },
  {
   "cell_type": "code",
   "execution_count": 21,
   "metadata": {
    "collapsed": false
   },
   "outputs": [
    {
     "data": {
      "image/png": "[encoded data removed]",
      "text/latex": [
       "$$\\left[\\begin{matrix}x_{1}\\\\x_{2}\\end{matrix}\\right]$$"
      ],
      "text/plain": [
       "⎡x₁⎤\n",
       "⎢  ⎥\n",
       "⎣x₂⎦"
      ]
     },
     "execution_count": 21,
     "metadata": {},
     "output_type": "execute_result"
    }
   ],
   "source": [
    "X = sym.Matrix([x_1, x_2])\n",
    "X"
   ]
  },
  {
   "cell_type": "code",
   "execution_count": 23,
   "metadata": {
    "collapsed": false
   },
   "outputs": [],
   "source": [
    "f_1 = -x_1 + x_2"
   ]
  },
  {
   "cell_type": "code",
   "execution_count": 24,
   "metadata": {
    "collapsed": true
   },
   "outputs": [],
   "source": [
    "f_2 = sym.Rational(1,10) * x_1 - 2 * x_2 - x_1 ** 2 - sym.Rational(1,10) * x_1 ** 3"
   ]
  },
  {
   "cell_type": "code",
   "execution_count": 25,
   "metadata": {
    "collapsed": true
   },
   "outputs": [],
   "source": [
    "F = sym.Matrix([f_1,f_2])"
   ]
  },
  {
   "cell_type": "code",
   "execution_count": 26,
   "metadata": {
    "collapsed": false
   },
   "outputs": [
    {
     "data": {
      "image/png": "[encoded data removed]",
      "text/latex": [
       "$$\\left[\\begin{matrix}- x_{1} + x_{2}\\\\- \\frac{x_{1}^{3}}{10} - x_{1}^{2} + \\frac{x_{1}}{10} - 2 x_{2}\\end{matrix}\\right]$$"
      ],
      "text/plain": [
       "⎡       -x₁ + x₂        ⎤\n",
       "⎢                       ⎥\n",
       "⎢    3                  ⎥\n",
       "⎢  x₁      2   x₁       ⎥\n",
       "⎢- ─── - x₁  + ── - 2⋅x₂⎥\n",
       "⎣   10         10       ⎦"
      ]
     },
     "execution_count": 26,
     "metadata": {},
     "output_type": "execute_result"
    }
   ],
   "source": [
    "F"
   ]
  },
  {
   "cell_type": "code",
   "execution_count": 72,
   "metadata": {
    "collapsed": false
   },
   "outputs": [
    {
     "data": {
      "image/png": "[encoded data removed]",
      "text/latex": [
       "$$\\left[\\begin{matrix}-1 & 1\\\\- \\frac{3 x_{1}^{2}}{10} - 2 x_{1} + \\frac{1}{10} & -2\\end{matrix}\\right]$$"
      ],
      "text/plain": [
       "⎡        -1           1 ⎤\n",
       "⎢                       ⎥\n",
       "⎢      2                ⎥\n",
       "⎢  3⋅x₁           1     ⎥\n",
       "⎢- ───── - 2⋅x₁ + ──  -2⎥\n",
       "⎣    10           10    ⎦"
      ]
     },
     "execution_count": 72,
     "metadata": {},
     "output_type": "execute_result"
    }
   ],
   "source": [
    "A = F.jacobian(X)\n",
    "A"
   ]
  },
  {
   "cell_type": "code",
   "execution_count": 51,
   "metadata": {
    "collapsed": false
   },
   "outputs": [
    {
     "data": {
      "image/png": "[encoded data removed]",
      "text/latex": [
       "$$\\begin{bmatrix}\\begin{Bmatrix}x_{1} : 0, & x_{2} : 0\\end{Bmatrix}, & \\begin{Bmatrix}x_{1} : -5 - \\sqrt{6}, & x_{2} : -5 - \\sqrt{6}\\end{Bmatrix}, & \\begin{Bmatrix}x_{1} : -5 + \\sqrt{6}, & x_{2} : -5 + \\sqrt{6}\\end{Bmatrix}\\end{bmatrix}$$"
      ],
      "text/plain": [
       "⎡                ⎧           ___             ___⎫  ⎧           ___            \n",
       "⎢{x₁: 0, x₂: 0}, ⎨x₁: -5 - ╲╱ 6 , x₂: -5 - ╲╱ 6 ⎬, ⎨x₁: -5 + ╲╱ 6 , x₂: -5 + ╲\n",
       "⎣                ⎩                              ⎭  ⎩                          \n",
       "\n",
       " ___⎫⎤\n",
       "╱ 6 ⎬⎥\n",
       "    ⎭⎦"
      ]
     },
     "execution_count": 51,
     "metadata": {},
     "output_type": "execute_result"
    }
   ],
   "source": [
    "# puntos de equilibrio del sistema\n",
    "pes = sym.solve([f_1,f_2])\n",
    "pes"
   ]
  },
  {
   "cell_type": "code",
   "execution_count": 54,
   "metadata": {
    "collapsed": false
   },
   "outputs": [
    {
     "data": {
      "text/plain": [
       "dict"
      ]
     },
     "execution_count": 54,
     "metadata": {},
     "output_type": "execute_result"
    }
   ],
   "source": [
    "type(pes[0])"
   ]
  },
  {
   "cell_type": "code",
   "execution_count": 53,
   "metadata": {
    "collapsed": false
   },
   "outputs": [
    {
     "data": {
      "image/png": "[encoded data removed]",
      "text/latex": [
       "$$\\left[\\begin{matrix}-1 & 1\\\\\\frac{1}{10} & -2\\end{matrix}\\right]$$"
      ],
      "text/plain": [
       "⎡ -1   1 ⎤\n",
       "⎢        ⎥\n",
       "⎣1/10  -2⎦"
      ]
     },
     "execution_count": 53,
     "metadata": {},
     "output_type": "execute_result"
    }
   ],
   "source": [
    "A_1 = A.subs(pes[0])\n",
    "A_1"
   ]
  },
  {
   "cell_type": "code",
   "execution_count": 70,
   "metadata": {
    "collapsed": false
   },
   "outputs": [
    {
     "data": {
      "image/png": "[encoded data removed]",
      "text/latex": [
       "$$\\begin{Bmatrix}- \\frac{3}{2} - \\frac{\\sqrt{35}}{10} : 1, & - \\frac{3}{2} + \\frac{\\sqrt{35}}{10} : 1\\end{Bmatrix}$$"
      ],
      "text/plain": [
       "⎧        ____             ____   ⎫\n",
       "⎪  3   ╲╱ 35        3   ╲╱ 35    ⎪\n",
       "⎨- ─ - ──────: 1, - ─ + ──────: 1⎬\n",
       "⎪  2     10         2     10     ⎪\n",
       "⎩                                ⎭"
      ]
     },
     "execution_count": 70,
     "metadata": {},
     "output_type": "execute_result"
    }
   ],
   "source": [
    "A_1.eigenvals() "
   ]
  },
  {
   "cell_type": "code",
   "execution_count": 73,
   "metadata": {
    "collapsed": false
   },
   "outputs": [
    {
     "data": {
      "image/png": "[encoded data removed]",
      "text/latex": [
       "$$\\left[\\begin{matrix}-1 & 1\\\\- \\frac{3}{10} \\left(-5 - \\sqrt{6}\\right)^{2} + 2 \\sqrt{6} + \\frac{101}{10} & -2\\end{matrix}\\right]$$"
      ],
      "text/plain": [
       "⎡               -1                  1 ⎤\n",
       "⎢                                     ⎥\n",
       "⎢                2                    ⎥\n",
       "⎢    ⎛       ___⎞                     ⎥\n",
       "⎢  3⋅⎝-5 - ╲╱ 6 ⎠        ___   101    ⎥\n",
       "⎢- ─────────────── + 2⋅╲╱ 6  + ───  -2⎥\n",
       "⎣         10                    10    ⎦"
      ]
     },
     "execution_count": 73,
     "metadata": {},
     "output_type": "execute_result"
    }
   ],
   "source": [
    "A_2 = A.subs(pes[1])\n",
    "A_2"
   ]
  },
  {
   "cell_type": "code",
   "execution_count": 90,
   "metadata": {
    "collapsed": false
   },
   "outputs": [
    {
     "data": {
      "image/png": "[encoded data removed]",
      "text/latex": [
       "$$\\begin{Bmatrix}- \\frac{3}{2} - \\frac{1}{10} \\sqrt{- 100 \\sqrt{6} + 105} : 1, & - \\frac{3}{2} + \\frac{1}{10} \\sqrt{- 100 \\sqrt{6} + 105} : 1\\end{Bmatrix}$$"
      ],
      "text/plain": [
       "⎧         ___________________              ___________________   ⎫\n",
       "⎪        ╱         ___                    ╱         ___          ⎪\n",
       "⎨  3   ╲╱  - 100⋅╲╱ 6  + 105        3   ╲╱  - 100⋅╲╱ 6  + 105    ⎬\n",
       "⎪- ─ - ──────────────────────: 1, - ─ + ──────────────────────: 1⎪\n",
       "⎩  2             10                 2             10             ⎭"
      ]
     },
     "execution_count": 90,
     "metadata": {},
     "output_type": "execute_result"
    }
   ],
   "source": [
    "lambda_2 = A_2.eigenvals()\n",
    "lambda_2"
   ]
  },
  {
   "cell_type": "code",
   "execution_count": 92,
   "metadata": {
    "collapsed": false
   },
   "outputs": [
    {
     "data": {
      "image/png": "[encoded data removed]",
      "text/latex": [
       "$$-1.5 + 1.18300031394044 i$$"
      ],
      "text/plain": [
       "-1.5 + 1.18300031394044⋅ⅈ"
      ]
     },
     "execution_count": 92,
     "metadata": {},
     "output_type": "execute_result"
    }
   ],
   "source": [
    "sym.N(lambda_2.keys()[0])"
   ]
  },
  {
   "cell_type": "code",
   "execution_count": 93,
   "metadata": {
    "collapsed": false
   },
   "outputs": [
    {
     "data": {
      "image/png": "[encoded data removed]",
      "text/latex": [
       "$$-1.5 - 1.18300031394044 i$$"
      ],
      "text/plain": [
       "-1.5 - 1.18300031394044⋅ⅈ"
      ]
     },
     "execution_count": 93,
     "metadata": {},
     "output_type": "execute_result"
    }
   ],
   "source": [
    "sym.N(lambda_2.keys()[1])"
   ]
  },
  {
   "cell_type": "code",
   "execution_count": 94,
   "metadata": {
    "collapsed": false
   },
   "outputs": [
    {
     "data": {
      "image/png": "[encoded data removed]",
      "text/latex": [
       "$$\\left[\\begin{matrix}-1 & 1\\\\- 2 \\sqrt{6} - \\frac{3}{10} \\left(-5 + \\sqrt{6}\\right)^{2} + \\frac{101}{10} & -2\\end{matrix}\\right]$$"
      ],
      "text/plain": [
       "⎡               -1                  1 ⎤\n",
       "⎢                                     ⎥\n",
       "⎢                          2          ⎥\n",
       "⎢              ⎛       ___⎞           ⎥\n",
       "⎢      ___   3⋅⎝-5 + ╲╱ 6 ⎠    101    ⎥\n",
       "⎢- 2⋅╲╱ 6  - ─────────────── + ───  -2⎥\n",
       "⎣                   10          10    ⎦"
      ]
     },
     "execution_count": 94,
     "metadata": {},
     "output_type": "execute_result"
    }
   ],
   "source": [
    "A_3 = A.subs(pes[2])\n",
    "A_3"
   ]
  },
  {
   "cell_type": "code",
   "execution_count": 96,
   "metadata": {
    "collapsed": false
   },
   "outputs": [
    {
     "data": {
      "image/png": "[encoded data removed]",
      "text/latex": [
       "$$\\begin{Bmatrix}- \\frac{3}{2} + \\frac{1}{10} \\sqrt{105 + 100 \\sqrt{6}} : 1, & - \\frac{1}{10} \\sqrt{105 + 100 \\sqrt{6}} - \\frac{3}{2} : 1\\end{Bmatrix}$$"
      ],
      "text/plain": [
       "⎧         _________________          _________________       ⎫\n",
       "⎪        ╱             ___          ╱             ___        ⎪\n",
       "⎨  3   ╲╱  105 + 100⋅╲╱ 6         ╲╱  105 + 100⋅╲╱ 6     3   ⎬\n",
       "⎪- ─ + ────────────────────: 1, - ──────────────────── - ─: 1⎪\n",
       "⎩  2            10                         10            2   ⎭"
      ]
     },
     "execution_count": 96,
     "metadata": {},
     "output_type": "execute_result"
    }
   ],
   "source": [
    "lambda_3 = A_3.eigenvals()\n",
    "lambda_3"
   ]
  },
  {
   "cell_type": "code",
   "execution_count": 97,
   "metadata": {
    "collapsed": false
   },
   "outputs": [
    {
     "data": {
      "image/png": "[encoded data removed]",
      "text/latex": [
       "$$0.370692316438804$$"
      ],
      "text/plain": [
       "0.370692316438804"
      ]
     },
     "execution_count": 97,
     "metadata": {},
     "output_type": "execute_result"
    }
   ],
   "source": [
    "sym.N(lambda_3.keys()[0])"
   ]
  },
  {
   "cell_type": "code",
   "execution_count": 98,
   "metadata": {
    "collapsed": false
   },
   "outputs": [
    {
     "data": {
      "image/png": "[encoded data removed]",
      "text/latex": [
       "$$-3.3706923164388$$"
      ],
      "text/plain": [
       "-3.37069231643880"
      ]
     },
     "execution_count": 98,
     "metadata": {},
     "output_type": "execute_result"
    }
   ],
   "source": [
    "sym.N(lambda_3.keys()[1])"
   ]
  },
  {
   "cell_type": "code",
   "execution_count": null,
   "metadata": {
    "collapsed": true
   },
   "outputs": [],
   "source": []
  }
 ],
 "metadata": {
  "kernelspec": {
   "display_name": "Python 2",
   "language": "python",
   "name": "python2"
  },
  "language_info": {
   "codemirror_mode": {
    "name": "ipython",
    "version": 2
   },
   "file_extension": ".py",
   "mimetype": "text/x-python",
   "name": "python",
   "nbconvert_exporter": "python",
   "pygments_lexer": "ipython2",
   "version": "2.7.9"
  }
 },
 "nbformat": 4,
 "nbformat_minor": 0
}
