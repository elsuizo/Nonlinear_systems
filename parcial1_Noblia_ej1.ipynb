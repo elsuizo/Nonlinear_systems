{
 "cells": [
  {
   "cell_type": "markdown",
   "metadata": {},
   "source": [
    "\n",
    " $$\\left\\{ \\begin{array}{lcc}\n",
    "            \\dot{x}_{1}=x_{1}-x_{2}-(x_{1}^{2}+\\frac{3}{2}x_{2}^{2})x_{1} \\\\\n",
    "             \\\\ \\dot{x}_{2}=x_{1}+x_{2}-(x_{1}^{2}+\\frac{1}{2}x_{2}^{2})x_{2}\n",
    "             \\end{array}\n",
    "\\right.$$\n",
    " "
   ]
  },
  {
   "cell_type": "code",
   "execution_count": 2,
   "metadata": {
    "collapsed": true
   },
   "outputs": [],
   "source": [
    "import sympy as sym"
   ]
  },
  {
   "cell_type": "code",
   "execution_count": 3,
   "metadata": {
    "collapsed": true
   },
   "outputs": [],
   "source": [
    "#Con esto las salidas van a ser en LaTeX\n",
    "sym.init_printing(use_latex=True)"
   ]
  },
  {
   "cell_type": "code",
   "execution_count": 4,
   "metadata": {
    "collapsed": false
   },
   "outputs": [],
   "source": [
    "x_1, x_2 ,theta = sym.symbols('x_1 x_2 theta')"
   ]
  },
  {
   "cell_type": "code",
   "execution_count": 5,
   "metadata": {
    "collapsed": false
   },
   "outputs": [
    {
     "data": {
      "image/png": "[encoded data removed]",
      "text/latex": [
       "$$\\left[\\begin{matrix}x_{1}\\\\x_{2}\\end{matrix}\\right]$$"
      ],
      "text/plain": [
       "⎡x₁⎤\n",
       "⎢  ⎥\n",
       "⎣x₂⎦"
      ]
     },
     "execution_count": 5,
     "metadata": {},
     "output_type": "execute_result"
    }
   ],
   "source": [
    "X = sym.Matrix([x_1, x_2])\n",
    "X"
   ]
  },
  {
   "cell_type": "code",
   "execution_count": 6,
   "metadata": {
    "collapsed": false
   },
   "outputs": [
    {
     "data": {
      "image/png": "[encoded data removed]",
      "text/latex": [
       "$$- x_{1} \\left(x_{1}^{2} + \\frac{3 x_{2}^{2}}{2}\\right) + x_{1} - x_{2}$$"
      ],
      "text/plain": [
       "     ⎛          2⎞          \n",
       "     ⎜  2   3⋅x₂ ⎟          \n",
       "- x₁⋅⎜x₁  + ─────⎟ + x₁ - x₂\n",
       "     ⎝        2  ⎠          "
      ]
     },
     "execution_count": 6,
     "metadata": {},
     "output_type": "execute_result"
    }
   ],
   "source": [
    "f_1 = x_1 - x_2 - (x_1**2 + sym.Rational(3,2)* x_2**2)*x_1\n",
    "f_1"
   ]
  },
  {
   "cell_type": "code",
   "execution_count": 7,
   "metadata": {
    "collapsed": true
   },
   "outputs": [],
   "source": [
    "f_2 = x_1 + x_2 - (x_1**2 + sym.Rational(1,2)* x_2**2)*x_2"
   ]
  },
  {
   "cell_type": "code",
   "execution_count": 8,
   "metadata": {
    "collapsed": false
   },
   "outputs": [
    {
     "data": {
      "image/png": "[encoded data removed]",
      "text/latex": [
       "$$\\left[\\begin{matrix}- x_{1} \\left(x_{1}^{2} + \\frac{3 x_{2}^{2}}{2}\\right) + x_{1} - x_{2}\\\\x_{1} - x_{2} \\left(x_{1}^{2} + \\frac{x_{2}^{2}}{2}\\right) + x_{2}\\end{matrix}\\right]$$"
      ],
      "text/plain": [
       "⎡     ⎛          2⎞          ⎤\n",
       "⎢     ⎜  2   3⋅x₂ ⎟          ⎥\n",
       "⎢- x₁⋅⎜x₁  + ─────⎟ + x₁ - x₂⎥\n",
       "⎢     ⎝        2  ⎠          ⎥\n",
       "⎢                            ⎥\n",
       "⎢          ⎛        2⎞       ⎥\n",
       "⎢          ⎜  2   x₂ ⎟       ⎥\n",
       "⎢  x₁ - x₂⋅⎜x₁  + ───⎟ + x₂  ⎥\n",
       "⎣          ⎝       2 ⎠       ⎦"
      ]
     },
     "execution_count": 8,
     "metadata": {},
     "output_type": "execute_result"
    }
   ],
   "source": [
    "F = sym.Matrix([f_1,f_2])\n",
    "F"
   ]
  },
  {
   "cell_type": "code",
   "execution_count": 9,
   "metadata": {
    "collapsed": false
   },
   "outputs": [
    {
     "data": {
      "image/png": "[encoded data removed]",
      "text/latex": [
       "$$\\left[\\begin{matrix}- 3 x_{1}^{2} - \\frac{3 x_{2}^{2}}{2} + 1 & - 3 x_{1} x_{2} - 1\\\\- 2 x_{1} x_{2} + 1 & - x_{1}^{2} - \\frac{3 x_{2}^{2}}{2} + 1\\end{matrix}\\right]$$"
      ],
      "text/plain": [
       "⎡              2                       ⎤\n",
       "⎢      2   3⋅x₂                        ⎥\n",
       "⎢- 3⋅x₁  - ───── + 1    -3⋅x₁⋅x₂ - 1   ⎥\n",
       "⎢            2                         ⎥\n",
       "⎢                                      ⎥\n",
       "⎢                                 2    ⎥\n",
       "⎢                         2   3⋅x₂     ⎥\n",
       "⎢   -2⋅x₁⋅x₂ + 1      - x₁  - ───── + 1⎥\n",
       "⎣                               2      ⎦"
      ]
     },
     "execution_count": 9,
     "metadata": {},
     "output_type": "execute_result"
    }
   ],
   "source": [
    "A = F.jacobian(X)\n",
    "A"
   ]
  },
  {
   "cell_type": "code",
   "execution_count": 10,
   "metadata": {
    "collapsed": false
   },
   "outputs": [
    {
     "data": {
      "image/png": "[encoded data removed]",
      "text/latex": [
       "$$\\left[\\begin{matrix}1 & -1\\\\1 & 1\\end{matrix}\\right]$$"
      ],
      "text/plain": [
       "⎡1  -1⎤\n",
       "⎢     ⎥\n",
       "⎣1  1 ⎦"
      ]
     },
     "execution_count": 10,
     "metadata": {},
     "output_type": "execute_result"
    }
   ],
   "source": [
    "A_1 = A.subs({x_1:0,x_2:0})\n",
    "A_1"
   ]
  },
  {
   "cell_type": "code",
   "execution_count": 11,
   "metadata": {
    "collapsed": false
   },
   "outputs": [
    {
     "data": {
      "image/png": "[encoded data removed]",
      "text/latex": [
       "$$\\left \\{ 1 - i : 1, \\quad 1 + i : 1\\right \\}$$"
      ],
      "text/plain": [
       "{1 - ⅈ: 1, 1 + ⅈ: 1}"
      ]
     },
     "execution_count": 11,
     "metadata": {},
     "output_type": "execute_result"
    }
   ],
   "source": [
    "A_1.eigenvals()"
   ]
  },
  {
   "cell_type": "code",
   "execution_count": 12,
   "metadata": {
    "collapsed": false
   },
   "outputs": [
    {
     "data": {
      "text/plain": [
       "'\\\\left[\\\\begin{matrix}1 & -1\\\\\\\\1 & 1\\\\end{matrix}\\\\right]'"
      ]
     },
     "execution_count": 12,
     "metadata": {},
     "output_type": "execute_result"
    }
   ],
   "source": [
    "sym.latex(A_1)"
   ]
  },
  {
   "cell_type": "code",
   "execution_count": 13,
   "metadata": {
    "collapsed": false
   },
   "outputs": [],
   "source": [
    "#sym.plot_implicit((f_1 )&(f_2))"
   ]
  },
  {
   "cell_type": "code",
   "execution_count": 14,
   "metadata": {
    "collapsed": true
   },
   "outputs": [],
   "source": [
    "ine = (f_1 <= 0)&(f_2 <= 0)"
   ]
  },
  {
   "cell_type": "code",
   "execution_count": 15,
   "metadata": {
    "collapsed": false
   },
   "outputs": [],
   "source": [
    "campo = 2*x_1*F[0] + 2*x_2*F[1]\n",
    "campo = campo.simplify()"
   ]
  },
  {
   "cell_type": "code",
   "execution_count": null,
   "metadata": {
    "collapsed": false
   },
   "outputs": [],
   "source": [
    "sym.plot_implicit(campo < 0,xlabel=r'$x_1$',ylabel=r'$x_2$',title='Zona de existencia de ciclo limite')"
   ]
  },
  {
   "cell_type": "code",
   "execution_count": 17,
   "metadata": {
    "collapsed": false
   },
   "outputs": [
    {
     "data": {
      "image/png": "[encoded data removed]",
      "text/latex": [
       "$$e^{x_{2}}$$"
      ],
      "text/plain": [
       " x₂\n",
       "ℯ  "
      ]
     },
     "execution_count": 17,
     "metadata": {},
     "output_type": "execute_result"
    }
   ],
   "source": [
    "sym.exp(x_2)"
   ]
  },
  {
   "cell_type": "code",
   "execution_count": null,
   "metadata": {
    "collapsed": false
   },
   "outputs": [],
   "source": [
    "F.subs({x_1:2,x_2:-2})"
   ]
  },
  {
   "cell_type": "code",
   "execution_count": 18,
   "metadata": {
    "collapsed": true
   },
   "outputs": [],
   "source": [
    "#sym.solve(F)"
   ]
  },
  {
   "cell_type": "code",
   "execution_count": 19,
   "metadata": {
    "collapsed": false
   },
   "outputs": [
    {
     "data": {
      "image/png": "[encoded data removed]",
      "text/latex": [
       "$$\\sin^{4}{\\left (\\theta \\right )} - 5 \\sin^{2}{\\left (\\theta \\right )} \\cos^{2}{\\left (\\theta \\right )} + \\cos^{4}{\\left (\\theta \\right )}$$"
      ],
      "text/plain": [
       "   4           2       2         4   \n",
       "sin (θ) - 5⋅sin (θ)⋅cos (θ) + cos (θ)"
      ]
     },
     "execution_count": 19,
     "metadata": {},
     "output_type": "execute_result"
    }
   ],
   "source": [
    "expr = sym.cos(theta)**4 + sym.sin(theta)**4 - 5*sym.cos(theta)**2 * sym.sin(theta)**2\n",
    "expr"
   ]
  },
  {
   "cell_type": "code",
   "execution_count": 24,
   "metadata": {
    "collapsed": false
   },
   "outputs": [
    {
     "ename": "ValueError",
     "evalue": "The same variable should be used in all univariate expressions being plotted.",
     "output_type": "error",
     "traceback": [
      "\u001b[1;31m---------------------------------------------------------------------------\u001b[0m",
      "\u001b[1;31mValueError\u001b[0m                                Traceback (most recent call last)",
      "\u001b[1;32m<ipython-input-24-853fc31c2cd6>\u001b[0m in \u001b[0;36m<module>\u001b[1;34m()\u001b[0m\n\u001b[1;32m----> 1\u001b[1;33m \u001b[0msym\u001b[0m\u001b[1;33m.\u001b[0m\u001b[0mplot\u001b[0m\u001b[1;33m(\u001b[0m\u001b[0mexpr\u001b[0m\u001b[1;33m)\u001b[0m\u001b[1;33m\u001b[0m\u001b[0m\n\u001b[0m",
      "\u001b[1;32m/home/elsuizo/anaconda/lib/python2.7/site-packages/sympy/plotting/plot.pyc\u001b[0m in \u001b[0;36mplot\u001b[1;34m(*args, **kwargs)\u001b[0m\n\u001b[0;32m   1266\u001b[0m             \u001b[1;32mif\u001b[0m \u001b[0mlen\u001b[0m\u001b[1;33m(\u001b[0m\u001b[0mfree\u001b[0m\u001b[1;33m)\u001b[0m \u001b[1;33m>\u001b[0m \u001b[1;36m1\u001b[0m\u001b[1;33m:\u001b[0m\u001b[1;33m\u001b[0m\u001b[0m\n\u001b[0;32m   1267\u001b[0m                 raise ValueError(\n\u001b[1;32m-> 1268\u001b[1;33m                     \u001b[1;34m'The same variable should be used in all '\u001b[0m\u001b[1;33m\u001b[0m\u001b[0m\n\u001b[0m\u001b[0;32m   1269\u001b[0m                     'univariate expressions being plotted.')\n\u001b[0;32m   1270\u001b[0m     \u001b[0mx\u001b[0m \u001b[1;33m=\u001b[0m \u001b[0mfree\u001b[0m\u001b[1;33m.\u001b[0m\u001b[0mpop\u001b[0m\u001b[1;33m(\u001b[0m\u001b[1;33m)\u001b[0m \u001b[1;32mif\u001b[0m \u001b[0mfree\u001b[0m \u001b[1;32melse\u001b[0m \u001b[0mSymbol\u001b[0m\u001b[1;33m(\u001b[0m\u001b[1;34m'x'\u001b[0m\u001b[1;33m)\u001b[0m\u001b[1;33m\u001b[0m\u001b[0m\n",
      "\u001b[1;31mValueError\u001b[0m: The same variable should be used in all univariate expressions being plotted."
     ]
    }
   ],
   "source": [
    "sym.plot(expr)"
   ]
  },
  {
   "cell_type": "code",
   "execution_count": 23,
   "metadata": {
    "collapsed": false
   },
   "outputs": [
    {
     "data": {
      "image/png": "[encoded data removed]",
      "text/latex": [
       "$$- 4 x_{1}^{2} - 3 x_{2}^{2} + 2$$"
      ],
      "text/plain": [
       "      2       2    \n",
       "- 4⋅x₁  - 3⋅x₂  + 2"
      ]
     },
     "execution_count": 23,
     "metadata": {},
     "output_type": "execute_result"
    }
   ],
   "source": [
    "expr = sym.diff(F[0],x_1) + sym.diff(F[1],x_2)\n",
    "expr"
   ]
  },
  {
   "cell_type": "code",
   "execution_count": null,
   "metadata": {
    "collapsed": true
   },
   "outputs": [],
   "source": []
  }
 ],
 "metadata": {
  "kernelspec": {
   "display_name": "Python 2",
   "language": "python",
   "name": "python2"
  },
  "language_info": {
   "codemirror_mode": {
    "name": "ipython",
    "version": 2
   },
   "file_extension": ".py",
   "mimetype": "text/x-python",
   "name": "python",
   "nbconvert_exporter": "python",
   "pygments_lexer": "ipython2",
   "version": "2.7.9"
  }
 },
 "nbformat": 4,
 "nbformat_minor": 0
}
