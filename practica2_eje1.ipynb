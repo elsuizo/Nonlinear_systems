{
 "cells": [
  {
   "cell_type": "markdown",
   "metadata": {},
   "source": [
    "##Practica 2 Ejercicio 1\n",
    "Mostrar que cada uno de los siguientes sistemas tiene una orbita periódica:\n",
    "  \n",
    "  * a) \n",
    " \n",
    " $$\\left\\{ \\begin{array}{lcc}\n",
    "            \\dot{x}_{1}=x_{2} \\\\\n",
    "             \\\\ \\dot{x}_{2}=-x_{1}+x_{2}(1-3x_{1}^{2}-2x_{2}^{2})\n",
    "             \\end{array}\n",
    "\\right.$$\n",
    " \n",
    "  * b) \n",
    "         \n",
    "$$\n",
    "\\ddot{y}+y=\\epsilon \\dot{y}(1-y^{2}-(\\dot{y})^{2}) \\:; \\epsilon > 0\n",
    "$$ \n",
    " "
   ]
  },
  {
   "cell_type": "code",
   "execution_count": 1,
   "metadata": {
    "collapsed": true
   },
   "outputs": [],
   "source": [
    "import sympy as sym"
   ]
  },
  {
   "cell_type": "code",
   "execution_count": 2,
   "metadata": {
    "collapsed": true
   },
   "outputs": [],
   "source": [
    "#Con esto las salidas van a ser en LaTeX\n",
    "sym.init_printing(use_latex=True)"
   ]
  },
  {
   "cell_type": "code",
   "execution_count": 3,
   "metadata": {
    "collapsed": true
   },
   "outputs": [],
   "source": [
    "x_1, x_2 = sym.symbols('x_1 x_2')"
   ]
  },
  {
   "cell_type": "code",
   "execution_count": 4,
   "metadata": {
    "collapsed": false
   },
   "outputs": [
    {
     "data": {
      "image/png": "[encoded data removed]",
      "text/latex": [
       "$$\\left[\\begin{matrix}x_{1}\\\\x_{2}\\end{matrix}\\right]$$"
      ],
      "text/plain": [
       "⎡x₁⎤\n",
       "⎢  ⎥\n",
       "⎣x₂⎦"
      ]
     },
     "execution_count": 4,
     "metadata": {},
     "output_type": "execute_result"
    }
   ],
   "source": [
    "X = sym.Matrix([x_1, x_2])\n",
    "X"
   ]
  },
  {
   "cell_type": "code",
   "execution_count": 5,
   "metadata": {
    "collapsed": true
   },
   "outputs": [],
   "source": [
    "f_1 = x_2"
   ]
  },
  {
   "cell_type": "code",
   "execution_count": 6,
   "metadata": {
    "collapsed": false
   },
   "outputs": [
    {
     "data": {
      "image/png": "[encoded data removed]",
      "text/latex": [
       "$$- x_{1} + x_{2} \\left(- 3 x_{1}^{2} - 2 x_{2}^{2} + 1\\right)$$"
      ],
      "text/plain": [
       "         ⎛      2       2    ⎞\n",
       "-x₁ + x₂⋅⎝- 3⋅x₁  - 2⋅x₂  + 1⎠"
      ]
     },
     "execution_count": 6,
     "metadata": {},
     "output_type": "execute_result"
    }
   ],
   "source": [
    "f_2 = -x_1 + x_2 * (1 - 3 * x_1 ** 2 - 2 * x_2 ** 2)\n",
    "f_2"
   ]
  },
  {
   "cell_type": "code",
   "execution_count": 7,
   "metadata": {
    "collapsed": false
   },
   "outputs": [
    {
     "data": {
      "image/png": "[encoded data removed]",
      "text/latex": [
       "$$\\left[\\begin{matrix}x_{2}\\\\- x_{1} + x_{2} \\left(- 3 x_{1}^{2} - 2 x_{2}^{2} + 1\\right)\\end{matrix}\\right]$$"
      ],
      "text/plain": [
       "⎡              x₂              ⎤\n",
       "⎢                              ⎥\n",
       "⎢         ⎛      2       2    ⎞⎥\n",
       "⎣-x₁ + x₂⋅⎝- 3⋅x₁  - 2⋅x₂  + 1⎠⎦"
      ]
     },
     "execution_count": 7,
     "metadata": {},
     "output_type": "execute_result"
    }
   ],
   "source": [
    "F = sym.Matrix([f_1,f_2])\n",
    "F"
   ]
  },
  {
   "cell_type": "code",
   "execution_count": 8,
   "metadata": {
    "collapsed": false
   },
   "outputs": [
    {
     "data": {
      "image/png": "[encoded data removed]",
      "text/latex": [
       "$$\\left[\\begin{matrix}0 & 1\\\\- 6 x_{1} x_{2} - 1 & - 3 x_{1}^{2} - 6 x_{2}^{2} + 1\\end{matrix}\\right]$$"
      ],
      "text/plain": [
       "⎡     0                 1         ⎤\n",
       "⎢                                 ⎥\n",
       "⎢                    2       2    ⎥\n",
       "⎣-6⋅x₁⋅x₂ - 1  - 3⋅x₁  - 6⋅x₂  + 1⎦"
      ]
     },
     "execution_count": 8,
     "metadata": {},
     "output_type": "execute_result"
    }
   ],
   "source": [
    "A = F.jacobian(X)\n",
    "#A.simplify()\n",
    "A"
   ]
  },
  {
   "cell_type": "code",
   "execution_count": 18,
   "metadata": {
    "collapsed": false
   },
   "outputs": [
    {
     "data": {
      "image/png": "[encoded data removed]",
      "text/latex": [
       "$$\\begin{bmatrix}\\begin{pmatrix}0, & 0\\end{pmatrix}\\end{bmatrix}$$"
      ],
      "text/plain": [
       "[(0, 0)]"
      ]
     },
     "execution_count": 18,
     "metadata": {},
     "output_type": "execute_result"
    }
   ],
   "source": [
    "# puntos de equilibrio del sistema\n",
    "pes = sym.solve([f_1,f_2],[x_1,x_2])\n",
    "pes"
   ]
  },
  {
   "cell_type": "code",
   "execution_count": 20,
   "metadata": {
    "collapsed": false
   },
   "outputs": [
    {
     "data": {
      "image/png": "[encoded data removed]",
      "text/latex": [
       "$$\\left[\\begin{matrix}0 & 1\\\\-1 & 1\\end{matrix}\\right]$$"
      ],
      "text/plain": [
       "⎡0   1⎤\n",
       "⎢     ⎥\n",
       "⎣-1  1⎦"
      ]
     },
     "execution_count": 20,
     "metadata": {},
     "output_type": "execute_result"
    }
   ],
   "source": [
    "A_1 = A.subs({x_1:0,x_2:0})\n",
    "A_1"
   ]
  },
  {
   "cell_type": "code",
   "execution_count": 21,
   "metadata": {
    "collapsed": false
   },
   "outputs": [
    {
     "data": {
      "image/png": "[encoded data removed]",
      "text/latex": [
       "$$\\begin{Bmatrix}\\frac{1}{2} - \\frac{\\sqrt{3} i}{2} : 1, & \\frac{1}{2} + \\frac{\\sqrt{3} i}{2} : 1\\end{Bmatrix}$$"
      ],
      "text/plain": [
       "⎧      ___             ___     ⎫\n",
       "⎪1   ╲╱ 3 ⋅ⅈ     1   ╲╱ 3 ⋅ⅈ   ⎪\n",
       "⎨─ - ───────: 1, ─ + ───────: 1⎬\n",
       "⎪2      2        2      2      ⎪\n",
       "⎩                              ⎭"
      ]
     },
     "execution_count": 21,
     "metadata": {},
     "output_type": "execute_result"
    }
   ],
   "source": [
    "A_1.eigenvals()"
   ]
  },
  {
   "cell_type": "code",
   "execution_count": 28,
   "metadata": {
    "collapsed": false
   },
   "outputs": [],
   "source": [
    "eq =2 * x_2 ** 2 - 6 * x_1 * x_2 ** 2 - 4 * x_2 ** 4"
   ]
  },
  {
   "cell_type": "code",
   "execution_count": 29,
   "metadata": {
    "collapsed": false
   },
   "outputs": [
    {
     "data": {
      "image/png": "[encoded data removed]",
      "text/latex": [
       "$$- 2 x_{2}^{2} \\left(3 x_{1} + 2 x_{2}^{2} - 1\\right)$$"
      ],
      "text/plain": [
       "     2 ⎛           2    ⎞\n",
       "-2⋅x₂ ⋅⎝3⋅x₁ + 2⋅x₂  - 1⎠"
      ]
     },
     "execution_count": 29,
     "metadata": {},
     "output_type": "execute_result"
    }
   ],
   "source": [
    "eq.factor()"
   ]
  },
  {
   "cell_type": "code",
   "execution_count": 27,
   "metadata": {
    "collapsed": false
   },
   "outputs": [
    {
     "data": {
      "text/plain": [
       "<sympy.plotting.plot.Plot at 0x7fca80f266d0>"
      ]
     },
     "execution_count": 27,
     "metadata": {},
     "output_type": "execute_result"
    }
   ],
   "source": [
    "sym.plot_implicit(eq)"
   ]
  },
  {
   "cell_type": "code",
   "execution_count": null,
   "metadata": {
    "collapsed": true
   },
   "outputs": [],
   "source": []
  }
 ],
 "metadata": {
  "kernelspec": {
   "display_name": "Python 2",
   "language": "python",
   "name": "python2"
  },
  "language_info": {
   "codemirror_mode": {
    "name": "ipython",
    "version": 2
   },
   "file_extension": ".py",
   "mimetype": "text/x-python",
   "name": "python",
   "nbconvert_exporter": "python",
   "pygments_lexer": "ipython2",
   "version": "2.7.9"
  }
 },
 "nbformat": 4,
 "nbformat_minor": 0
}
