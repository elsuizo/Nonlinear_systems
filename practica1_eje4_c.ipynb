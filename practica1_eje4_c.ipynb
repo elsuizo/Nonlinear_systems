{
 "cells": [
  {
   "cell_type": "markdown",
   "metadata": {},
   "source": [
    "##Ejercicio 4 Practica 1\n",
    "Para cada uno de los siguientes sistemas encontrar todos los puntos de equilibrio y determinar el tipo de cada punto de equilibio aislado.\n",
    " * c) \n",
    " \n",
    " $$\\left\\{ \\begin{array}{lcc}\n",
    "            \\dot{x}_{1}=(1-x_{1})x_{1}-\\frac{2x_{1}x_{2}}{1+x_{1}}\\\\\n",
    "             \\\\ \\dot{x}_{2}=(2-\\frac{x_{2}}{1+x_{1}})x_{2}\n",
    "             \\end{array}\n",
    "\\right.$$"
   ]
  },
  {
   "cell_type": "code",
   "execution_count": 1,
   "metadata": {
    "collapsed": true
   },
   "outputs": [],
   "source": [
    "import sympy as sym"
   ]
  },
  {
   "cell_type": "code",
   "execution_count": 2,
   "metadata": {
    "collapsed": true
   },
   "outputs": [],
   "source": [
    "#Con esto las salidas van a ser en LaTeX\n",
    "sym.init_printing(use_latex=True)"
   ]
  },
  {
   "cell_type": "code",
   "execution_count": 18,
   "metadata": {
    "collapsed": true
   },
   "outputs": [],
   "source": [
    "x_1, x_2 = sym.symbols('x_1 x_2')"
   ]
  },
  {
   "cell_type": "code",
   "execution_count": 4,
   "metadata": {
    "collapsed": false
   },
   "outputs": [
    {
     "data": {
      "image/png": "[encoded data removed]",
      "text/latex": [
       "$$\\left[\\begin{matrix}x_{1}\\\\x_{2}\\end{matrix}\\right]$$"
      ],
      "text/plain": [
       "⎡x₁⎤\n",
       "⎢  ⎥\n",
       "⎣x₂⎦"
      ]
     },
     "execution_count": 4,
     "metadata": {},
     "output_type": "execute_result"
    }
   ],
   "source": [
    "X = sym.Matrix([x_1, x_2])\n",
    "X"
   ]
  },
  {
   "cell_type": "code",
   "execution_count": 9,
   "metadata": {
    "collapsed": false
   },
   "outputs": [
    {
     "data": {
      "image/png": "[encoded data removed]",
      "text/latex": [
       "$$- \\frac{2 x_{1} x_{2}}{x_{1} + 1} + x_{1} \\left(- x_{1} + 1\\right)$$"
      ],
      "text/plain": [
       "  2⋅x₁⋅x₂               \n",
       "- ─────── + x₁⋅(-x₁ + 1)\n",
       "   x₁ + 1               "
      ]
     },
     "execution_count": 9,
     "metadata": {},
     "output_type": "execute_result"
    }
   ],
   "source": [
    "f_1 = (1 - x_1) * x_1 - (2 * x_1 * x_2) / (1 + x_1)\n",
    "f_1"
   ]
  },
  {
   "cell_type": "code",
   "execution_count": 11,
   "metadata": {
    "collapsed": false
   },
   "outputs": [
    {
     "data": {
      "image/png": "[encoded data removed]",
      "text/latex": [
       "$$x_{2} \\left(- \\frac{x_{2}}{x_{1} + 1} + 2\\right)$$"
      ],
      "text/plain": [
       "   ⎛    x₂      ⎞\n",
       "x₂⋅⎜- ────── + 2⎟\n",
       "   ⎝  x₁ + 1    ⎠"
      ]
     },
     "execution_count": 11,
     "metadata": {},
     "output_type": "execute_result"
    }
   ],
   "source": [
    "f_2 = (2 - (x_2)/(1 + x_1)) * x_2\n",
    "f_2"
   ]
  },
  {
   "cell_type": "code",
   "execution_count": 12,
   "metadata": {
    "collapsed": false
   },
   "outputs": [
    {
     "data": {
      "image/png": "[encoded data removed]",
      "text/latex": [
       "$$\\left[\\begin{matrix}- \\frac{2 x_{1} x_{2}}{x_{1} + 1} + x_{1} \\left(- x_{1} + 1\\right)\\\\x_{2} \\left(- \\frac{x_{2}}{x_{1} + 1} + 2\\right)\\end{matrix}\\right]$$"
      ],
      "text/plain": [
       "⎡  2⋅x₁⋅x₂               ⎤\n",
       "⎢- ─────── + x₁⋅(-x₁ + 1)⎥\n",
       "⎢   x₁ + 1               ⎥\n",
       "⎢                        ⎥\n",
       "⎢      ⎛    x₂      ⎞    ⎥\n",
       "⎢   x₂⋅⎜- ────── + 2⎟    ⎥\n",
       "⎣      ⎝  x₁ + 1    ⎠    ⎦"
      ]
     },
     "execution_count": 12,
     "metadata": {},
     "output_type": "execute_result"
    }
   ],
   "source": [
    "F = sym.Matrix([f_1,f_2])\n",
    "F"
   ]
  },
  {
   "cell_type": "code",
   "execution_count": 13,
   "metadata": {
    "collapsed": false
   },
   "outputs": [
    {
     "data": {
      "image/png": "[encoded data removed]",
      "text/latex": [
       "$$\\begin{bmatrix}\\begin{Bmatrix}x_{1} : -3, & x_{2} : -4\\end{Bmatrix}, & \\begin{Bmatrix}x_{1} : -1, & x_{2} : 0\\end{Bmatrix}, & \\begin{Bmatrix}x_{1} : 0, & x_{2} : 0\\end{Bmatrix}, & \\begin{Bmatrix}x_{1} : 0, & x_{2} : 2\\end{Bmatrix}, & \\begin{Bmatrix}x_{1} : 1, & x_{2} : 0\\end{Bmatrix}\\end{bmatrix}$$"
      ],
      "text/plain": [
       "[{x₁: -3, x₂: -4}, {x₁: -1, x₂: 0}, {x₁: 0, x₂: 0}, {x₁: 0, x₂: 2}, {x₁: 1, x₂\n",
       ": 0}]"
      ]
     },
     "execution_count": 13,
     "metadata": {},
     "output_type": "execute_result"
    }
   ],
   "source": [
    "# puntos de equilibrio del sistema\n",
    "pes = sym.solve([f_1,f_2])\n",
    "pes"
   ]
  },
  {
   "cell_type": "code",
   "execution_count": 14,
   "metadata": {
    "collapsed": false
   },
   "outputs": [
    {
     "data": {
      "image/png": "[encoded data removed]",
      "text/latex": [
       "$$\\left[\\begin{matrix}\\frac{2 x_{1} x_{2}}{\\left(x_{1} + 1\\right)^{2}} - 2 x_{1} - \\frac{2 x_{2}}{x_{1} + 1} + 1 & - \\frac{2 x_{1}}{x_{1} + 1}\\\\\\frac{x_{2}^{2}}{\\left(x_{1} + 1\\right)^{2}} & - \\frac{2 x_{2}}{x_{1} + 1} + 2\\end{matrix}\\right]$$"
      ],
      "text/plain": [
       "⎡ 2⋅x₁⋅x₂            2⋅x₂          -2⋅x₁    ⎤\n",
       "⎢───────── - 2⋅x₁ - ────── + 1     ──────   ⎥\n",
       "⎢        2          x₁ + 1         x₁ + 1   ⎥\n",
       "⎢(x₁ + 1)                                   ⎥\n",
       "⎢                                           ⎥\n",
       "⎢               2                           ⎥\n",
       "⎢             x₂                   2⋅x₂     ⎥\n",
       "⎢          ─────────            - ────── + 2⎥\n",
       "⎢                  2              x₁ + 1    ⎥\n",
       "⎣          (x₁ + 1)                         ⎦"
      ]
     },
     "execution_count": 14,
     "metadata": {},
     "output_type": "execute_result"
    }
   ],
   "source": [
    "A = F.jacobian(X)\n",
    "A"
   ]
  },
  {
   "cell_type": "code",
   "execution_count": 15,
   "metadata": {
    "collapsed": false
   },
   "outputs": [
    {
     "data": {
      "image/png": "[encoded data removed]",
      "text/latex": [
       "$$\\left[\\begin{matrix}9 & -3\\\\4 & -2\\end{matrix}\\right]$$"
      ],
      "text/plain": [
       "⎡9  -3⎤\n",
       "⎢     ⎥\n",
       "⎣4  -2⎦"
      ]
     },
     "execution_count": 15,
     "metadata": {},
     "output_type": "execute_result"
    }
   ],
   "source": [
    "A_1 = A.subs(pes[0])\n",
    "A_1"
   ]
  },
  {
   "cell_type": "code",
   "execution_count": 16,
   "metadata": {
    "collapsed": false
   },
   "outputs": [
    {
     "data": {
      "image/png": "[encoded data removed]",
      "text/latex": [
       "$$\\begin{Bmatrix}\\frac{7}{2} + \\frac{\\sqrt{73}}{2} : 1, & - \\frac{\\sqrt{73}}{2} + \\frac{7}{2} : 1\\end{Bmatrix}$$"
      ],
      "text/plain": [
       "⎧      ____         ____       ⎫\n",
       "⎪7   ╲╱ 73        ╲╱ 73    7   ⎪\n",
       "⎨─ + ──────: 1, - ────── + ─: 1⎬\n",
       "⎪2     2            2      2   ⎪\n",
       "⎩                              ⎭"
      ]
     },
     "execution_count": 16,
     "metadata": {},
     "output_type": "execute_result"
    }
   ],
   "source": [
    "A_1.eigenvals()"
   ]
  },
  {
   "cell_type": "code",
   "execution_count": null,
   "metadata": {
    "collapsed": true
   },
   "outputs": [],
   "source": []
  }
 ],
 "metadata": {
  "kernelspec": {
   "display_name": "Python 2",
   "language": "python",
   "name": "python2"
  },
  "language_info": {
   "codemirror_mode": {
    "name": "ipython",
    "version": 2
   },
   "file_extension": ".py",
   "mimetype": "text/x-python",
   "name": "python",
   "nbconvert_exporter": "python",
   "pygments_lexer": "ipython2",
   "version": "2.7.9"
  }
 },
 "nbformat": 4,
 "nbformat_minor": 0
}
